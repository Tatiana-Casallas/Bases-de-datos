{
  "nbformat": 4,
  "nbformat_minor": 0,
  "metadata": {
    "colab": {
      "provenance": []
    },
    "kernelspec": {
      "display_name": "Python 3",
      "language": "python",
      "name": "python3"
    },
    "language_info": {
      "codemirror_mode": {
        "name": "ipython",
        "version": 3
      },
      "file_extension": ".py",
      "mimetype": "text/x-python",
      "name": "python",
      "nbconvert_exporter": "python",
      "pygments_lexer": "ipython3",
      "version": "3.7.6"
    }
  },
  "cells": [
    {
      "cell_type": "markdown",
      "metadata": {
        "id": "_kGiUp-aXlZU"
      },
      "source": [
        "#**Taller 1 - Análisis de datos con *Pandas***\n",
        "---\n",
        "\n",
        "Esta tarea le permitirá practicar las habilidades adquiridas usando la librería para el análisis y manipulación de datos *pandas*. Utilizaremos el [dataset de Salarios en San Francisco - SF](https://www.kaggle.com/kaggle/sf-salaries) de *Kaggle*.\n",
        "\n",
        "El conjunto de datos de salarios de San Francisco cuenta con múltiples variables salariales de los empleados de la ciudad entre $2011$ y $2014$ :\n",
        "\n",
        "| Variable | Definición\t| Valores |\n",
        "| --- | --- | --- |\n",
        "| EmployeeName | \tNombre del empleado  | \t |\n",
        "| JobTitle \t| Título del empleo | |\n",
        "| BasePay \t| Salario base \t| |\n",
        "| OvertimePay |\tSalario por tiempo extra \t| |\n",
        "| OtherPay |\tOtros pagos salariales \t| |\n",
        "| Benefits |\tBeneficios (Costo de beneficios de salud y pensión) \t| |\n",
        "| TotalPay |\tSalario total del periodo\t| |\n",
        "| TotalPayBenefits |\tSalario total más beneficios | |\n",
        "| Year \t| Año | |\n",
        "| Notes |\tInformación del registro\t| No aplica |\n",
        "| Agency |\tCiudad de la agencia de empleos |\t'San Francisco' |\n",
        "| Status |\tEstado del registro |\tNo aplica |\n",
        "\n"
      ]
    },
    {
      "cell_type": "markdown",
      "metadata": {
        "id": "Lz6RiA6hiuMU"
      },
      "source": [
        "Ejecute la siguiente celda para importar *pandas*."
      ]
    },
    {
      "cell_type": "code",
      "metadata": {
        "id": "UeHIJwQs9Ew1"
      },
      "source": [
        "# Importar pandas\n",
        "import pandas as pd"
      ],
      "execution_count": 4,
      "outputs": []
    },
    {
      "cell_type": "code",
      "metadata": {
        "id": "hMRTRILm9Hu8",
        "colab": {
          "base_uri": "https://localhost:8080/"
        },
        "outputId": "555799b6-67e8-4241-ee23-df7bd4b626b6"
      },
      "source": [
        "#TEST_CELL\n",
        "!python --version\n",
        "print('Pandas', pd.__version__)"
      ],
      "execution_count": 5,
      "outputs": [
        {
          "output_type": "stream",
          "name": "stdout",
          "text": [
            "Python 3.12.11\n",
            "Pandas 2.2.2\n"
          ]
        }
      ]
    },
    {
      "cell_type": "markdown",
      "metadata": {
        "id": "SyVY0vdCjm1R"
      },
      "source": [
        "Este material fue realizado con las siguientes versiones:\n",
        "\n",
        "- Python 3.10.12\n",
        "\n",
        "- Pandas: 2.0.3"
      ]
    },
    {
      "cell_type": "markdown",
      "metadata": {
        "id": "VfJrDRB0kvbN"
      },
      "source": [
        "Por favor complete las tareas que se detallan a continuación. El nivel de dificultad de las tareas es incremental."
      ]
    },
    {
      "cell_type": "markdown",
      "metadata": {
        "id": "adqf_QGVpsMi"
      },
      "source": [
        "## **0.  Leer el archivo de datos**\n",
        "---\n",
        "> **IMPORTANTE:**\n",
        "\n",
        "  1. Por favor descargue el archivo con el conjunto de datos desde el siguiente enlace: **[salarios.csv](https://raw.githubusercontent.com/JuezUN/datasets/master/salarios.csv)**.\n",
        "  2. En el enlace, haga clic derecho y seleccione la opción **\"Guardar como...\"**.\n",
        "\n",
        "  3. Cargue este archivo en su sistema de archivos de **Google Colaboratory**. Para hacer esto:\n",
        "    \n",
        "    * Haga clic donde aparece el icono del directorio en la parte izquierda de la ventana en *Google Colaboratory* que corresponde a la imagen de una carpeta.\n",
        "    * Después, haga clic en el icono **\"Subir\"**.\n",
        "    * Seleccione el archivo **`salarios.csv`** que previamente descargó y haga clic en **\"Aceptar\"**.\n",
        "\n",
        "  \n",
        "  4. Ejecute la siguiente celda para cargar el conjunto de datos dentro del DataFrame de *pandas* llamado **`sal`**:"
      ]
    },
    {
      "cell_type": "code",
      "metadata": {
        "id": "_Fq8CTZTXlZq"
      },
      "source": [
        "### EJECUTAR ESTA CELDA SIN MODIFICARLA. SI FALLA, DEBE SEGUIR EL PROCEDIMIENTO DESCRITO ANTES.\n",
        "sal = pd.read_csv('salarios.csv')\n",
        "## Tarda un poco en cargar, tenga paciencia.\n",
        "## Puede ver el progreso de la carga en la parte inferior izquierda de la ventana."
      ],
      "execution_count": 9,
      "outputs": []
    },
    {
      "cell_type": "markdown",
      "metadata": {
        "id": "is3esgp0XlZ9"
      },
      "source": [
        "> Haga una exploración de las variables con el método **`.info()`**. Asegúrese de tener $148654$ registros. **De lo contrario, es posible que haya ejecutado la celda anterior antes que terminara de cargar el archivo.** Si ese es el caso, deberá **ejecutarla nuevamente** cuando el archivo haya terminado de cargar.\n"
      ]
    },
    {
      "cell_type": "code",
      "metadata": {
        "id": "AWj2NSTAXlZ-",
        "colab": {
          "base_uri": "https://localhost:8080/"
        },
        "outputId": "1d4db916-5849-4935-fe99-22fdc630fc02"
      },
      "source": [
        "sal.info()"
      ],
      "execution_count": 10,
      "outputs": [
        {
          "output_type": "stream",
          "name": "stdout",
          "text": [
            "<class 'pandas.core.frame.DataFrame'>\n",
            "RangeIndex: 148654 entries, 0 to 148653\n",
            "Data columns (total 13 columns):\n",
            " #   Column            Non-Null Count   Dtype  \n",
            "---  ------            --------------   -----  \n",
            " 0   Id                148654 non-null  int64  \n",
            " 1   EmployeeName      148654 non-null  object \n",
            " 2   JobTitle          148654 non-null  object \n",
            " 3   BasePay           148045 non-null  float64\n",
            " 4   OvertimePay       148650 non-null  float64\n",
            " 5   OtherPay          148650 non-null  float64\n",
            " 6   Benefits          112491 non-null  float64\n",
            " 7   TotalPay          148654 non-null  float64\n",
            " 8   TotalPayBenefits  148654 non-null  float64\n",
            " 9   Year              148654 non-null  int64  \n",
            " 10  Notes             0 non-null       float64\n",
            " 11  Agency            148654 non-null  object \n",
            " 12  Status            0 non-null       float64\n",
            "dtypes: float64(8), int64(2), object(3)\n",
            "memory usage: 14.7+ MB\n"
          ]
        }
      ]
    },
    {
      "cell_type": "markdown",
      "metadata": {
        "id": "EavxnM8pY29u"
      },
      "source": [
        "**Salida esperada:**\n",
        "```python\n",
        "<class 'pandas.core.frame.DataFrame'>\n",
        "RangeIndex: 148654 entries, 0 to 148653\n",
        "Data columns (total 13 columns):\n",
        " #   Column            Non-Null Count   Dtype  \n",
        "---  ------            --------------   -----  \n",
        " 0   Id                148654 non-null  int64  \n",
        " 1   EmployeeName      148654 non-null  object\n",
        " 2   JobTitle          148654 non-null  object\n",
        " 3   BasePay           148045 non-null  float64\n",
        " 4   OvertimePay       148650 non-null  float64\n",
        " 5   OtherPay          148650 non-null  float64\n",
        " 6   Benefits          112491 non-null  float64\n",
        " 7   TotalPay          148654 non-null  float64\n",
        " 8   TotalPayBenefits  148654 non-null  float64\n",
        " 9   Year              148654 non-null  int64  \n",
        " 10  Notes             0 non-null       float64\n",
        " 11  Agency            148654 non-null  object\n",
        " 12  Status            0 non-null       float64\n",
        "dtypes: float64(8), int64(2), object(3)\n",
        "memory usage: 14.7+ MB\n",
        "```"
      ]
    },
    {
      "cell_type": "markdown",
      "metadata": {
        "id": "poLcbWe_XlZ2"
      },
      "source": [
        "- Muestre las primeras 5 filas del *DataFrame* para verificar que leyó los datos correctamente."
      ]
    },
    {
      "cell_type": "code",
      "metadata": {
        "id": "B5zJw4RAXlZ2",
        "colab": {
          "base_uri": "https://localhost:8080/",
          "height": 487
        },
        "outputId": "efb468b7-6458-4c80-90ec-49d0a405f40c"
      },
      "source": [
        "sal.head(5)"
      ],
      "execution_count": 11,
      "outputs": [
        {
          "output_type": "execute_result",
          "data": {
            "text/plain": [
              "   Id       EmployeeName                                        JobTitle  \\\n",
              "0   1     NATHANIEL FORD  GENERAL MANAGER-METROPOLITAN TRANSIT AUTHORITY   \n",
              "1   2       GARY JIMENEZ                 CAPTAIN III (POLICE DEPARTMENT)   \n",
              "2   3     ALBERT PARDINI                 CAPTAIN III (POLICE DEPARTMENT)   \n",
              "3   4  CHRISTOPHER CHONG            WIRE ROPE CABLE MAINTENANCE MECHANIC   \n",
              "4   5    PATRICK GARDNER    DEPUTY CHIEF OF DEPARTMENT,(FIRE DEPARTMENT)   \n",
              "\n",
              "     BasePay  OvertimePay   OtherPay  Benefits   TotalPay  TotalPayBenefits  \\\n",
              "0  167411.18         0.00  400184.25       NaN  567595.43         567595.43   \n",
              "1  155966.02    245131.88  137811.38       NaN  538909.28         538909.28   \n",
              "2  212739.13    106088.18   16452.60       NaN  335279.91         335279.91   \n",
              "3   77916.00     56120.71  198306.90       NaN  332343.61         332343.61   \n",
              "4  134401.60      9737.00  182234.59       NaN  326373.19         326373.19   \n",
              "\n",
              "   Year  Notes         Agency  Status  \n",
              "0  2011    NaN  San Francisco     NaN  \n",
              "1  2011    NaN  San Francisco     NaN  \n",
              "2  2011    NaN  San Francisco     NaN  \n",
              "3  2011    NaN  San Francisco     NaN  \n",
              "4  2011    NaN  San Francisco     NaN  "
            ],
            "text/html": [
              "\n",
              "  <div id=\"df-8b67cb54-638e-49cf-accd-3fc90ef6ef12\" class=\"colab-df-container\">\n",
              "    <div>\n",
              "<style scoped>\n",
              "    .dataframe tbody tr th:only-of-type {\n",
              "        vertical-align: middle;\n",
              "    }\n",
              "\n",
              "    .dataframe tbody tr th {\n",
              "        vertical-align: top;\n",
              "    }\n",
              "\n",
              "    .dataframe thead th {\n",
              "        text-align: right;\n",
              "    }\n",
              "</style>\n",
              "<table border=\"1\" class=\"dataframe\">\n",
              "  <thead>\n",
              "    <tr style=\"text-align: right;\">\n",
              "      <th></th>\n",
              "      <th>Id</th>\n",
              "      <th>EmployeeName</th>\n",
              "      <th>JobTitle</th>\n",
              "      <th>BasePay</th>\n",
              "      <th>OvertimePay</th>\n",
              "      <th>OtherPay</th>\n",
              "      <th>Benefits</th>\n",
              "      <th>TotalPay</th>\n",
              "      <th>TotalPayBenefits</th>\n",
              "      <th>Year</th>\n",
              "      <th>Notes</th>\n",
              "      <th>Agency</th>\n",
              "      <th>Status</th>\n",
              "    </tr>\n",
              "  </thead>\n",
              "  <tbody>\n",
              "    <tr>\n",
              "      <th>0</th>\n",
              "      <td>1</td>\n",
              "      <td>NATHANIEL FORD</td>\n",
              "      <td>GENERAL MANAGER-METROPOLITAN TRANSIT AUTHORITY</td>\n",
              "      <td>167411.18</td>\n",
              "      <td>0.00</td>\n",
              "      <td>400184.25</td>\n",
              "      <td>NaN</td>\n",
              "      <td>567595.43</td>\n",
              "      <td>567595.43</td>\n",
              "      <td>2011</td>\n",
              "      <td>NaN</td>\n",
              "      <td>San Francisco</td>\n",
              "      <td>NaN</td>\n",
              "    </tr>\n",
              "    <tr>\n",
              "      <th>1</th>\n",
              "      <td>2</td>\n",
              "      <td>GARY JIMENEZ</td>\n",
              "      <td>CAPTAIN III (POLICE DEPARTMENT)</td>\n",
              "      <td>155966.02</td>\n",
              "      <td>245131.88</td>\n",
              "      <td>137811.38</td>\n",
              "      <td>NaN</td>\n",
              "      <td>538909.28</td>\n",
              "      <td>538909.28</td>\n",
              "      <td>2011</td>\n",
              "      <td>NaN</td>\n",
              "      <td>San Francisco</td>\n",
              "      <td>NaN</td>\n",
              "    </tr>\n",
              "    <tr>\n",
              "      <th>2</th>\n",
              "      <td>3</td>\n",
              "      <td>ALBERT PARDINI</td>\n",
              "      <td>CAPTAIN III (POLICE DEPARTMENT)</td>\n",
              "      <td>212739.13</td>\n",
              "      <td>106088.18</td>\n",
              "      <td>16452.60</td>\n",
              "      <td>NaN</td>\n",
              "      <td>335279.91</td>\n",
              "      <td>335279.91</td>\n",
              "      <td>2011</td>\n",
              "      <td>NaN</td>\n",
              "      <td>San Francisco</td>\n",
              "      <td>NaN</td>\n",
              "    </tr>\n",
              "    <tr>\n",
              "      <th>3</th>\n",
              "      <td>4</td>\n",
              "      <td>CHRISTOPHER CHONG</td>\n",
              "      <td>WIRE ROPE CABLE MAINTENANCE MECHANIC</td>\n",
              "      <td>77916.00</td>\n",
              "      <td>56120.71</td>\n",
              "      <td>198306.90</td>\n",
              "      <td>NaN</td>\n",
              "      <td>332343.61</td>\n",
              "      <td>332343.61</td>\n",
              "      <td>2011</td>\n",
              "      <td>NaN</td>\n",
              "      <td>San Francisco</td>\n",
              "      <td>NaN</td>\n",
              "    </tr>\n",
              "    <tr>\n",
              "      <th>4</th>\n",
              "      <td>5</td>\n",
              "      <td>PATRICK GARDNER</td>\n",
              "      <td>DEPUTY CHIEF OF DEPARTMENT,(FIRE DEPARTMENT)</td>\n",
              "      <td>134401.60</td>\n",
              "      <td>9737.00</td>\n",
              "      <td>182234.59</td>\n",
              "      <td>NaN</td>\n",
              "      <td>326373.19</td>\n",
              "      <td>326373.19</td>\n",
              "      <td>2011</td>\n",
              "      <td>NaN</td>\n",
              "      <td>San Francisco</td>\n",
              "      <td>NaN</td>\n",
              "    </tr>\n",
              "  </tbody>\n",
              "</table>\n",
              "</div>\n",
              "    <div class=\"colab-df-buttons\">\n",
              "\n",
              "  <div class=\"colab-df-container\">\n",
              "    <button class=\"colab-df-convert\" onclick=\"convertToInteractive('df-8b67cb54-638e-49cf-accd-3fc90ef6ef12')\"\n",
              "            title=\"Convert this dataframe to an interactive table.\"\n",
              "            style=\"display:none;\">\n",
              "\n",
              "  <svg xmlns=\"http://www.w3.org/2000/svg\" height=\"24px\" viewBox=\"0 -960 960 960\">\n",
              "    <path d=\"M120-120v-720h720v720H120Zm60-500h600v-160H180v160Zm220 220h160v-160H400v160Zm0 220h160v-160H400v160ZM180-400h160v-160H180v160Zm440 0h160v-160H620v160ZM180-180h160v-160H180v160Zm440 0h160v-160H620v160Z\"/>\n",
              "  </svg>\n",
              "    </button>\n",
              "\n",
              "  <style>\n",
              "    .colab-df-container {\n",
              "      display:flex;\n",
              "      gap: 12px;\n",
              "    }\n",
              "\n",
              "    .colab-df-convert {\n",
              "      background-color: #E8F0FE;\n",
              "      border: none;\n",
              "      border-radius: 50%;\n",
              "      cursor: pointer;\n",
              "      display: none;\n",
              "      fill: #1967D2;\n",
              "      height: 32px;\n",
              "      padding: 0 0 0 0;\n",
              "      width: 32px;\n",
              "    }\n",
              "\n",
              "    .colab-df-convert:hover {\n",
              "      background-color: #E2EBFA;\n",
              "      box-shadow: 0px 1px 2px rgba(60, 64, 67, 0.3), 0px 1px 3px 1px rgba(60, 64, 67, 0.15);\n",
              "      fill: #174EA6;\n",
              "    }\n",
              "\n",
              "    .colab-df-buttons div {\n",
              "      margin-bottom: 4px;\n",
              "    }\n",
              "\n",
              "    [theme=dark] .colab-df-convert {\n",
              "      background-color: #3B4455;\n",
              "      fill: #D2E3FC;\n",
              "    }\n",
              "\n",
              "    [theme=dark] .colab-df-convert:hover {\n",
              "      background-color: #434B5C;\n",
              "      box-shadow: 0px 1px 3px 1px rgba(0, 0, 0, 0.15);\n",
              "      filter: drop-shadow(0px 1px 2px rgba(0, 0, 0, 0.3));\n",
              "      fill: #FFFFFF;\n",
              "    }\n",
              "  </style>\n",
              "\n",
              "    <script>\n",
              "      const buttonEl =\n",
              "        document.querySelector('#df-8b67cb54-638e-49cf-accd-3fc90ef6ef12 button.colab-df-convert');\n",
              "      buttonEl.style.display =\n",
              "        google.colab.kernel.accessAllowed ? 'block' : 'none';\n",
              "\n",
              "      async function convertToInteractive(key) {\n",
              "        const element = document.querySelector('#df-8b67cb54-638e-49cf-accd-3fc90ef6ef12');\n",
              "        const dataTable =\n",
              "          await google.colab.kernel.invokeFunction('convertToInteractive',\n",
              "                                                    [key], {});\n",
              "        if (!dataTable) return;\n",
              "\n",
              "        const docLinkHtml = 'Like what you see? Visit the ' +\n",
              "          '<a target=\"_blank\" href=https://colab.research.google.com/notebooks/data_table.ipynb>data table notebook</a>'\n",
              "          + ' to learn more about interactive tables.';\n",
              "        element.innerHTML = '';\n",
              "        dataTable['output_type'] = 'display_data';\n",
              "        await google.colab.output.renderOutput(dataTable, element);\n",
              "        const docLink = document.createElement('div');\n",
              "        docLink.innerHTML = docLinkHtml;\n",
              "        element.appendChild(docLink);\n",
              "      }\n",
              "    </script>\n",
              "  </div>\n",
              "\n",
              "\n",
              "    <div id=\"df-9a163945-dd76-41a7-ab9b-418501c00962\">\n",
              "      <button class=\"colab-df-quickchart\" onclick=\"quickchart('df-9a163945-dd76-41a7-ab9b-418501c00962')\"\n",
              "                title=\"Suggest charts\"\n",
              "                style=\"display:none;\">\n",
              "\n",
              "<svg xmlns=\"http://www.w3.org/2000/svg\" height=\"24px\"viewBox=\"0 0 24 24\"\n",
              "     width=\"24px\">\n",
              "    <g>\n",
              "        <path d=\"M19 3H5c-1.1 0-2 .9-2 2v14c0 1.1.9 2 2 2h14c1.1 0 2-.9 2-2V5c0-1.1-.9-2-2-2zM9 17H7v-7h2v7zm4 0h-2V7h2v10zm4 0h-2v-4h2v4z\"/>\n",
              "    </g>\n",
              "</svg>\n",
              "      </button>\n",
              "\n",
              "<style>\n",
              "  .colab-df-quickchart {\n",
              "      --bg-color: #E8F0FE;\n",
              "      --fill-color: #1967D2;\n",
              "      --hover-bg-color: #E2EBFA;\n",
              "      --hover-fill-color: #174EA6;\n",
              "      --disabled-fill-color: #AAA;\n",
              "      --disabled-bg-color: #DDD;\n",
              "  }\n",
              "\n",
              "  [theme=dark] .colab-df-quickchart {\n",
              "      --bg-color: #3B4455;\n",
              "      --fill-color: #D2E3FC;\n",
              "      --hover-bg-color: #434B5C;\n",
              "      --hover-fill-color: #FFFFFF;\n",
              "      --disabled-bg-color: #3B4455;\n",
              "      --disabled-fill-color: #666;\n",
              "  }\n",
              "\n",
              "  .colab-df-quickchart {\n",
              "    background-color: var(--bg-color);\n",
              "    border: none;\n",
              "    border-radius: 50%;\n",
              "    cursor: pointer;\n",
              "    display: none;\n",
              "    fill: var(--fill-color);\n",
              "    height: 32px;\n",
              "    padding: 0;\n",
              "    width: 32px;\n",
              "  }\n",
              "\n",
              "  .colab-df-quickchart:hover {\n",
              "    background-color: var(--hover-bg-color);\n",
              "    box-shadow: 0 1px 2px rgba(60, 64, 67, 0.3), 0 1px 3px 1px rgba(60, 64, 67, 0.15);\n",
              "    fill: var(--button-hover-fill-color);\n",
              "  }\n",
              "\n",
              "  .colab-df-quickchart-complete:disabled,\n",
              "  .colab-df-quickchart-complete:disabled:hover {\n",
              "    background-color: var(--disabled-bg-color);\n",
              "    fill: var(--disabled-fill-color);\n",
              "    box-shadow: none;\n",
              "  }\n",
              "\n",
              "  .colab-df-spinner {\n",
              "    border: 2px solid var(--fill-color);\n",
              "    border-color: transparent;\n",
              "    border-bottom-color: var(--fill-color);\n",
              "    animation:\n",
              "      spin 1s steps(1) infinite;\n",
              "  }\n",
              "\n",
              "  @keyframes spin {\n",
              "    0% {\n",
              "      border-color: transparent;\n",
              "      border-bottom-color: var(--fill-color);\n",
              "      border-left-color: var(--fill-color);\n",
              "    }\n",
              "    20% {\n",
              "      border-color: transparent;\n",
              "      border-left-color: var(--fill-color);\n",
              "      border-top-color: var(--fill-color);\n",
              "    }\n",
              "    30% {\n",
              "      border-color: transparent;\n",
              "      border-left-color: var(--fill-color);\n",
              "      border-top-color: var(--fill-color);\n",
              "      border-right-color: var(--fill-color);\n",
              "    }\n",
              "    40% {\n",
              "      border-color: transparent;\n",
              "      border-right-color: var(--fill-color);\n",
              "      border-top-color: var(--fill-color);\n",
              "    }\n",
              "    60% {\n",
              "      border-color: transparent;\n",
              "      border-right-color: var(--fill-color);\n",
              "    }\n",
              "    80% {\n",
              "      border-color: transparent;\n",
              "      border-right-color: var(--fill-color);\n",
              "      border-bottom-color: var(--fill-color);\n",
              "    }\n",
              "    90% {\n",
              "      border-color: transparent;\n",
              "      border-bottom-color: var(--fill-color);\n",
              "    }\n",
              "  }\n",
              "</style>\n",
              "\n",
              "      <script>\n",
              "        async function quickchart(key) {\n",
              "          const quickchartButtonEl =\n",
              "            document.querySelector('#' + key + ' button');\n",
              "          quickchartButtonEl.disabled = true;  // To prevent multiple clicks.\n",
              "          quickchartButtonEl.classList.add('colab-df-spinner');\n",
              "          try {\n",
              "            const charts = await google.colab.kernel.invokeFunction(\n",
              "                'suggestCharts', [key], {});\n",
              "          } catch (error) {\n",
              "            console.error('Error during call to suggestCharts:', error);\n",
              "          }\n",
              "          quickchartButtonEl.classList.remove('colab-df-spinner');\n",
              "          quickchartButtonEl.classList.add('colab-df-quickchart-complete');\n",
              "        }\n",
              "        (() => {\n",
              "          let quickchartButtonEl =\n",
              "            document.querySelector('#df-9a163945-dd76-41a7-ab9b-418501c00962 button');\n",
              "          quickchartButtonEl.style.display =\n",
              "            google.colab.kernel.accessAllowed ? 'block' : 'none';\n",
              "        })();\n",
              "      </script>\n",
              "    </div>\n",
              "\n",
              "    </div>\n",
              "  </div>\n"
            ],
            "application/vnd.google.colaboratory.intrinsic+json": {
              "type": "dataframe",
              "variable_name": "sal"
            }
          },
          "metadata": {},
          "execution_count": 11
        }
      ]
    },
    {
      "cell_type": "markdown",
      "metadata": {
        "id": "t2VPn0u9m7bH"
      },
      "source": [
        "A continuación se le pedirá que realice varias acciones sobre el *DataFrame* **`sal`**. Por favor siga las instrucciones y no cambie el nombre de las variables o funciones dadas."
      ]
    },
    {
      "cell_type": "markdown",
      "metadata": {
        "id": "wD8JhrFnXlaL"
      },
      "source": [
        "## **1. ¿Cuál es el salario base promedio?**\n",
        "---\n",
        "Guarde el resultado de esta pregunta en la variable **`salario_promedio`**."
      ]
    },
    {
      "cell_type": "markdown",
      "metadata": {
        "id": "BA-nbOmnPYl6"
      },
      "source": [
        "<details>    \n",
        "<summary>\n",
        "    <font size=\"3\" color=\"darkgreen\"><b>Pistas</b></font>\n",
        "</summary>\n",
        "<p>\n",
        "\n",
        "* La columna que almacena los salarios base en este conjunto de datos es: **`BasePay`**."
      ]
    },
    {
      "cell_type": "code",
      "metadata": {
        "id": "16C9T0m9XlaL",
        "colab": {
          "base_uri": "https://localhost:8080/"
        },
        "outputId": "ac3b2272-767b-4fe4-8612-20b331d988ca"
      },
      "source": [
        "## salario_promedio\n",
        "\n",
        "### ESCRIBA SU CÓDIGO AQUÍ ### (~ 1 línea de código)\n",
        "salario_promedio = sal.describe()['BasePay']['mean']\n",
        "print(salario_promedio)\n",
        "### FIN DEL CÓDIGO ###\n",
        "salario_promedio"
      ],
      "execution_count": 12,
      "outputs": [
        {
          "output_type": "stream",
          "name": "stdout",
          "text": [
            "66325.4488404877\n"
          ]
        },
        {
          "output_type": "execute_result",
          "data": {
            "text/plain": [
              "np.float64(66325.4488404877)"
            ]
          },
          "metadata": {},
          "execution_count": 12
        }
      ]
    },
    {
      "cell_type": "markdown",
      "metadata": {
        "id": "aUMOBmPr3NCw"
      },
      "source": [
        "La salida de la celda anterior debería ser (no se muestran todas las cifras):\n",
        "```python\n",
        "6___5.4__84__0643\n",
        "```"
      ]
    },
    {
      "cell_type": "markdown",
      "metadata": {
        "id": "ZeUUokYPos4g"
      },
      "source": [
        "## **2. ¿Cuál es la mayor cantidad pagada por horas extra?**\n",
        "---\n",
        "Guarde el resultado de esta pregunta en la variable **`maximo_pago`**."
      ]
    },
    {
      "cell_type": "markdown",
      "metadata": {
        "id": "MLGwxvJnmbV3"
      },
      "source": [
        "<details>    \n",
        "<summary>\n",
        "    <font size=\"3\" color=\"darkgreen\"><b>Pistas</b></font>\n",
        "</summary>\n",
        "\n",
        "* La columna **`OvertimePay`** contiene los valores pagados por concepto de horas extra.\n",
        "* Recuerde que los nombres de las columnas son susceptibles a mayúsculas y minúsculas. Es diferente **`OvertimePay`** a **`overtimepay`**."
      ]
    },
    {
      "cell_type": "code",
      "metadata": {
        "id": "UTGUCU5Ios4h",
        "colab": {
          "base_uri": "https://localhost:8080/"
        },
        "outputId": "75d5067e-818c-4ba5-8e62-4eb8904d48ec"
      },
      "source": [
        "## maximo_pago\n",
        "\n",
        "### ESCRIBA SU CÓDIGO AQUÍ ### (~ 1 línea de código)\n",
        "maximo_pago = sal.describe()['OvertimePay']['max']\n",
        "### FIN DEL CÓDIGO ###\n",
        "\n",
        "maximo_pago"
      ],
      "execution_count": 14,
      "outputs": [
        {
          "output_type": "execute_result",
          "data": {
            "text/plain": [
              "np.float64(245131.88)"
            ]
          },
          "metadata": {},
          "execution_count": 14
        }
      ]
    },
    {
      "cell_type": "markdown",
      "metadata": {
        "id": "xQXUfwzoF2sE"
      },
      "source": [
        "La salida de la celda anterior debería ser (no se muestran todas las cifras):\n",
        "```python\n",
        "24__31._8\n",
        "```"
      ]
    },
    {
      "cell_type": "markdown",
      "metadata": {
        "id": "Uy3EPhF9pC-J"
      },
      "source": [
        "## **3. ¿Cuál es el cargo de \"Lisa Murphy\"?**\n",
        "---\n",
        "\n",
        "Guarde el resultado de esta pregunta en la variable **`cargo_lisa`**."
      ]
    },
    {
      "cell_type": "markdown",
      "metadata": {
        "id": "Av2RI0NimtMB"
      },
      "source": [
        "<details>    \n",
        "<summary>\n",
        "    <font size=\"3\" color=\"darkgreen\"><b>Pistas</b></font>\n",
        "</summary>\n",
        "\n",
        "* La variable debe contener un objeto de tipo *Series* con el índice original de \"Lisa Murphy\" en el *DataFrame* **`sal`**.\n",
        "* Intente usar selección condicional para obtener el registro deseado. Además, debe quedarse únicamente con la columna del cargo (**`JobTitle`**).\n"
      ]
    },
    {
      "cell_type": "code",
      "metadata": {
        "id": "-ICJmzdBpC-K",
        "colab": {
          "base_uri": "https://localhost:8080/",
          "height": 115
        },
        "outputId": "48442eb1-d14d-4e29-e760-529f78cb2339"
      },
      "source": [
        "## cargo_lisa\n",
        "\n",
        "### ESCRIBA SU CÓDIGO AQUÍ ### (~ 1 línea de código)\n",
        "cargo_lisa=sal[sal['EmployeeName'] == 'Lisa Murphy']['JobTitle']\n",
        "cargo_lisa\n",
        "### FIN DEL CÓDIGO ###\n",
        "\n"
      ],
      "execution_count": 15,
      "outputs": [
        {
          "output_type": "execute_result",
          "data": {
            "text/plain": [
              "72161    Recreation Leader\n",
              "Name: JobTitle, dtype: object"
            ],
            "text/html": [
              "<div>\n",
              "<style scoped>\n",
              "    .dataframe tbody tr th:only-of-type {\n",
              "        vertical-align: middle;\n",
              "    }\n",
              "\n",
              "    .dataframe tbody tr th {\n",
              "        vertical-align: top;\n",
              "    }\n",
              "\n",
              "    .dataframe thead th {\n",
              "        text-align: right;\n",
              "    }\n",
              "</style>\n",
              "<table border=\"1\" class=\"dataframe\">\n",
              "  <thead>\n",
              "    <tr style=\"text-align: right;\">\n",
              "      <th></th>\n",
              "      <th>JobTitle</th>\n",
              "    </tr>\n",
              "  </thead>\n",
              "  <tbody>\n",
              "    <tr>\n",
              "      <th>72161</th>\n",
              "      <td>Recreation Leader</td>\n",
              "    </tr>\n",
              "  </tbody>\n",
              "</table>\n",
              "</div><br><label><b>dtype:</b> object</label>"
            ]
          },
          "metadata": {},
          "execution_count": 15
        }
      ]
    },
    {
      "cell_type": "markdown",
      "metadata": {
        "id": "mgr1iPHGGVxh"
      },
      "source": [
        "La salida de la celda anterior debería ser (no se muestran todos los caracteres):\n",
        "\n",
        "```python\n",
        "72___    Rec___tion _e_der\n",
        "Name: JobTitle, dtype: object\n",
        "```"
      ]
    },
    {
      "cell_type": "markdown",
      "metadata": {
        "id": "TjxT07AcpmjS"
      },
      "source": [
        "## **4. ¿Cuánto gana incluyendo beneficios \"John Scott\"?**\n",
        "---\n",
        "\n",
        "Guarde el resultado de esta pregunta en la variable **`ganancias_john`**.\n",
        "\n",
        "> **Nota:** esto incluye también los beneficios (**`TotalPayBenefits`**)."
      ]
    },
    {
      "cell_type": "markdown",
      "metadata": {
        "id": "DrUaakCtnMW_"
      },
      "source": [
        "<details>    \n",
        "<summary>\n",
        "    <font size=\"3\" color=\"darkgreen\"><b>Pistas</b></font>\n",
        "</summary>\n",
        "\n",
        "* La variable debe contener un objeto de tipo *Series* con el índice original de John Scott en **`sal`**.\n",
        "* Intente usar selección condicional y seleccionar solo la variable de interés.\n",
        "\n"
      ]
    },
    {
      "cell_type": "code",
      "metadata": {
        "id": "fuu_xkttpmjT",
        "colab": {
          "base_uri": "https://localhost:8080/",
          "height": 115
        },
        "outputId": "da5c65b8-d919-47db-c0ae-9ba5095d0387"
      },
      "source": [
        "## ganancias_john\n",
        "\n",
        "### ESCRIBA SU CÓDIGO AQUÍ ### (~ 1 línea de código)\n",
        "ganancias_john = sal[sal['EmployeeName'] == 'John Scott']['TotalPayBenefits']\n",
        "\n",
        "\n",
        "###\n",
        "ganancias_john\n",
        "### FIN DEL CÓDIGO ###"
      ],
      "execution_count": 16,
      "outputs": [
        {
          "output_type": "execute_result",
          "data": {
            "text/plain": [
              "40234    178403.37\n",
              "Name: TotalPayBenefits, dtype: float64"
            ],
            "text/html": [
              "<div>\n",
              "<style scoped>\n",
              "    .dataframe tbody tr th:only-of-type {\n",
              "        vertical-align: middle;\n",
              "    }\n",
              "\n",
              "    .dataframe tbody tr th {\n",
              "        vertical-align: top;\n",
              "    }\n",
              "\n",
              "    .dataframe thead th {\n",
              "        text-align: right;\n",
              "    }\n",
              "</style>\n",
              "<table border=\"1\" class=\"dataframe\">\n",
              "  <thead>\n",
              "    <tr style=\"text-align: right;\">\n",
              "      <th></th>\n",
              "      <th>TotalPayBenefits</th>\n",
              "    </tr>\n",
              "  </thead>\n",
              "  <tbody>\n",
              "    <tr>\n",
              "      <th>40234</th>\n",
              "      <td>178403.37</td>\n",
              "    </tr>\n",
              "  </tbody>\n",
              "</table>\n",
              "</div><br><label><b>dtype:</b> float64</label>"
            ]
          },
          "metadata": {},
          "execution_count": 16
        }
      ]
    },
    {
      "cell_type": "markdown",
      "metadata": {
        "id": "6YNtvkXHG0Cr"
      },
      "source": [
        "La salida de la celda anterior debería ser (no se muestran todas las cifras):\n",
        "```python\n",
        "40__4    178__3.37\n",
        "Name: TotalPayBenefits, dtype: float64\n",
        "```"
      ]
    },
    {
      "cell_type": "markdown",
      "metadata": {
        "id": "5jPfgvN6qINz"
      },
      "source": [
        "## **5. ¿Cuál es el nombre de la persona que más gana?**\n",
        "---\n",
        "Guarde el resultado de esta pregunta en la variable **`max_pers_gana`**.\n",
        "\n",
        "> **Nota:** considerando también los beneficios (**`TotalPayBenefits`**)."
      ]
    },
    {
      "cell_type": "markdown",
      "metadata": {
        "id": "t2fyFEsSnYWX"
      },
      "source": [
        "<details>    \n",
        "<summary>\n",
        "    <font size=\"3\" color=\"darkgreen\"><b>Pistas</b></font>\n",
        "</summary>\n",
        "\n",
        "* La variable debe contener un objeto de tipo *Series* con el índice original de la persona en **`sal`**.\n",
        "* Utilice indexado condicional en filas y selección de columnas para obtener la serie deseada."
      ]
    },
    {
      "cell_type": "code",
      "metadata": {
        "id": "hgvFrYhNqIN0",
        "colab": {
          "base_uri": "https://localhost:8080/"
        },
        "outputId": "a10bf823-f2c3-4bab-a2c2-f812c3bcfc3f"
      },
      "source": [
        "## max_pers_gana\n",
        "\n",
        "### ESCRIBA SU CÓDIGO AQUÍ ### (~ 1 línea de código)\n",
        "max_pers_gana = sal[sal['TotalPayBenefits'] == sal['TotalPayBenefits'].max()]['EmployeeName']\n",
        "print(max_pers_gana)\n",
        "###\n",
        "### FIN DEL CÓDIGO ###"
      ],
      "execution_count": 17,
      "outputs": [
        {
          "output_type": "stream",
          "name": "stdout",
          "text": [
            "0    NATHANIEL FORD\n",
            "Name: EmployeeName, dtype: object\n"
          ]
        }
      ]
    },
    {
      "cell_type": "markdown",
      "metadata": {
        "id": "iev1j8QAG_tR"
      },
      "source": [
        "La salida de la celda anterior debería ser (no se muestran todos los caracteres):\n",
        "```python\n",
        "_    NA_____EL __RD\n",
        "Name: EmployeeName, dtype: object\n",
        "```"
      ]
    },
    {
      "cell_type": "markdown",
      "metadata": {
        "id": "tcPBNobZqoIL"
      },
      "source": [
        "## **6. ¿Cuál es el cargo de la persona que menos gana?**\n",
        "---\n",
        "\n",
        "Guarde el resultado de esta pregunta en la variable **`min_cargo_gana`**.\n",
        "\n",
        "> **Nota:** considerando también los beneficios (**`TotalPayBenefits`**)."
      ]
    },
    {
      "cell_type": "markdown",
      "metadata": {
        "id": "ApeerSi5oHcQ"
      },
      "source": [
        "<details>    \n",
        "<summary>\n",
        "    <font size=\"3\" color=\"darkgreen\"><b>Pistas</b></font>\n",
        "</summary>\n",
        "\n",
        "* La variable debe contener un objeto de tipo *Series* con el índice original de la persona en **`sal`**.\n",
        "* Utilice indexado condicional en filas y selección de columnas para obtener la serie deseada."
      ]
    },
    {
      "cell_type": "code",
      "metadata": {
        "id": "pC3hwYrcqoIN",
        "colab": {
          "base_uri": "https://localhost:8080/"
        },
        "outputId": "8412106e-970e-44cd-d454-cd8e6e8e4119"
      },
      "source": [
        "## min_pers_gana\n",
        "### ESCRIBA SU CÓDIGO AQUÍ ### (~ 1 línea de código)\n",
        "min_cargo_gana = sal[sal['TotalPayBenefits'] == sal['TotalPayBenefits'].min()]['JobTitle']\n",
        "print(min_cargo_gana)\n",
        "###\n",
        "\n",
        "### FIN DEL CÓDIGO ###"
      ],
      "execution_count": 18,
      "outputs": [
        {
          "output_type": "stream",
          "name": "stdout",
          "text": [
            "148653    Counselor, Log Cabin Ranch\n",
            "Name: JobTitle, dtype: object\n"
          ]
        }
      ]
    },
    {
      "cell_type": "markdown",
      "metadata": {
        "id": "4HiIxMf5HN2f"
      },
      "source": [
        "La salida de la celda anterior debería ser (no se muestran todos los caracteres):\n",
        "```python\n",
        "14___3    Co____lor, Lo_ _abin Ra__h\n",
        "Name: JobTitle, dtype: object\n",
        "```\n"
      ]
    },
    {
      "cell_type": "markdown",
      "metadata": {
        "id": "bgNn-MVpq_i3"
      },
      "source": [
        "## **7. ¿Cuál es el salario base promedio de todos los empleados por año?**\n",
        "---\n",
        "\n",
        "Guarde el resultado de esta pregunta en la variable **`sal_base_prom`**.\n",
        "\n",
        "> **Nota:** El cálculo se realiza en los años $2011$ a $2014$, la salida tiene que ser de tipo **`pd.Series`** o **`pd.DataFrame`** y los índices deben corresponder al año."
      ]
    },
    {
      "cell_type": "markdown",
      "metadata": {
        "id": "SXbXn4nGo5TO"
      },
      "source": [
        "<details>    \n",
        "<summary>\n",
        "    <font size=\"3\" color=\"darkgreen\"><b>Pistas</b></font>\n",
        "</summary>\n",
        "\n",
        "* La variable debe contener un objeto de tipo **`pd.Series`** o **`pd.DataFrame`** con el índice siendo el año y el valor promedio del año como contenido.\n",
        "* Verifique el tipo de dato obtenido en cada acción. En muchos casos el objeto retornado tras realizar una operación es un objeto válido de *pandas* sobre el que se pueden hacer más operaciones.\n",
        "* Puede verificar (en una celda aparte) que el tamaño del objeto resultante **`sal_base_prom.shape`** sea **`(4,1)`** o **`(4,)`**.\n"
      ]
    },
    {
      "cell_type": "code",
      "metadata": {
        "id": "oNyTdoCpq_i5",
        "colab": {
          "base_uri": "https://localhost:8080/"
        },
        "outputId": "506e5c72-d5b2-4847-f88b-89d99ab0f04d"
      },
      "source": [
        "## sal_base_prom\n",
        "### ESCRIBA SU CÓDIGO AQUÍ ### (~ 1 línea de código)\n",
        "sal_base_prom = sal.groupby('Year')['BasePay'].mean()\n",
        "print(sal_base_prom)\n",
        "### FIN DEL CÓDIGO ###\n"
      ],
      "execution_count": 19,
      "outputs": [
        {
          "output_type": "stream",
          "name": "stdout",
          "text": [
            "Year\n",
            "2011    63595.956517\n",
            "2012    65436.406857\n",
            "2013    69630.030216\n",
            "2014    66564.421924\n",
            "Name: BasePay, dtype: float64\n"
          ]
        }
      ]
    },
    {
      "cell_type": "markdown",
      "metadata": {
        "id": "Ovef2vVmHXzp"
      },
      "source": [
        "La salida de la celda anterior debería ser (no se muestran todas las cifras):\n",
        "```python\n",
        "Year\n",
        "2011    63___.___517\n",
        "2012    65___.___857\n",
        "2013    69___.___216\n",
        "2014    66___.___924\n",
        "Name: BasePay, dtype: float64\n",
        "```"
      ]
    },
    {
      "cell_type": "markdown",
      "metadata": {
        "id": "ATxsd1cMrY92"
      },
      "source": [
        "## **8. ¿Cuántos cargos únicos distintos existen?**\n",
        "---\n",
        "\n",
        "Guarde el resultado de esta pregunta en la variable **`cargos_unicos`**."
      ]
    },
    {
      "cell_type": "markdown",
      "metadata": {
        "id": "PxCSQBBXpeg7"
      },
      "source": [
        "<details>    \n",
        "<summary>\n",
        "    <font size=\"3\" color=\"darkgreen\"><b>Pistas</b></font>\n",
        "</summary>\n",
        "\n",
        "* No es necesario realizar el conteo con múltiples operaciones. Uno de los métodos presentados en la guía realiza esta tarea."
      ]
    },
    {
      "cell_type": "code",
      "metadata": {
        "id": "rpZzwLPXrY93",
        "colab": {
          "base_uri": "https://localhost:8080/"
        },
        "outputId": "6ce611f3-08a9-42c7-de4d-7eb9c0647df9"
      },
      "source": [
        "## cargos_unicos\n",
        "cargos_unicos = sal['JobTitle'].nunique()\n",
        "print(cargos_unicos)\n",
        "### ESCRIBA SU CÓDIGO AQUÍ ### (~ 1 línea de código)\n",
        "\n",
        "### FIN DEL CÓDIGO ###\n"
      ],
      "execution_count": 20,
      "outputs": [
        {
          "output_type": "stream",
          "name": "stdout",
          "text": [
            "2159\n"
          ]
        }
      ]
    },
    {
      "cell_type": "markdown",
      "metadata": {
        "id": "OVPRJXe6Hemw"
      },
      "source": [
        "La salida de la celda anterior debería ser (no se muestran todas las cifras):\n",
        "```python\n",
        "2__9\n",
        "```"
      ]
    },
    {
      "cell_type": "markdown",
      "metadata": {
        "id": "I-YzGCGSr0PV"
      },
      "source": [
        "## **9. ¿Cuáles son los 5 cargos más comunes?**\n",
        "---\n",
        "\n",
        "Guarde el resultado de esta pregunta en la variable **`cargos_comunes`**."
      ]
    },
    {
      "cell_type": "markdown",
      "metadata": {
        "id": "IsupjiOKHhOq"
      },
      "source": [
        "<details>    \n",
        "<summary>\n",
        "    <font size=\"3\" color=\"darkgreen\"><b>Pistas</b></font>\n",
        "</summary>\n",
        "\n",
        "* La variable debería contener un objeto *Series*, con el índice correspondiendo al nombre del cargo, y la frecuencia de dicho cargo en su valor.\n"
      ]
    },
    {
      "cell_type": "code",
      "metadata": {
        "id": "uIenpPppr0PW",
        "colab": {
          "base_uri": "https://localhost:8080/"
        },
        "outputId": "8661ae0b-ba5f-46e6-f992-f0043aafb548"
      },
      "source": [
        "## cargos_comunes\n",
        "cargos_comunes = sal['JobTitle'].value_counts().head(5)\n",
        "print(cargos_comunes)\n",
        "### ESCRIBA SU CÓDIGO AQUÍ ### (~ 1 línea de código)\n",
        "\n",
        "### FIN DEL CÓDIGO ###\n"
      ],
      "execution_count": 21,
      "outputs": [
        {
          "output_type": "stream",
          "name": "stdout",
          "text": [
            "JobTitle\n",
            "Transit Operator                7036\n",
            "Special Nurse                   4389\n",
            "Registered Nurse                3736\n",
            "Public Svc Aide-Public Works    2518\n",
            "Police Officer 3                2421\n",
            "Name: count, dtype: int64\n"
          ]
        }
      ]
    },
    {
      "cell_type": "markdown",
      "metadata": {
        "id": "GoBEIyJepzUs"
      },
      "source": [
        "La salida de la celda anterior debería ser (no se muestran todos los caracteres):\n",
        "```python\n",
        "Tr___it Op___tor                7__6\n",
        "Sp___al Nu___                   4__9\n",
        "Re___tered Nu___                3__6\n",
        "Pu___c Svc Ai___Pu___c Wo___    2__8\n",
        "Po___e Of___er 3                2__1\n",
        "Name: JobTitle, dtype: int64\n",
        "```"
      ]
    },
    {
      "cell_type": "markdown",
      "metadata": {
        "id": "k8op0kVDsqKr"
      },
      "source": [
        "## **10. ¿Cuántos cargos estaban ocupados solamente por una persona en 2013?**\n",
        "---\n",
        "\n",
        "Guarde el resultado de esta pregunta en la variable **`cargos_una_pers`**."
      ]
    },
    {
      "cell_type": "markdown",
      "metadata": {
        "id": "RLz1gVW4qL1R"
      },
      "source": [
        "<details>    \n",
        "<summary>\n",
        "    <font size=\"3\" color=\"darkgreen\"><b>Pistas</b></font>\n",
        "</summary>\n",
        "\n",
        "* La variable debería contener un número entero.\n",
        "* Intente combinar métodos de entendimiento de datos con selección condicional.\n",
        "* Puede usar la suma **`sum`** para contar el total de valores **`True`** en un arreglo de valores booleanos.\n",
        "\n"
      ]
    },
    {
      "cell_type": "code",
      "metadata": {
        "id": "EtROrngSsqKt",
        "colab": {
          "base_uri": "https://localhost:8080/"
        },
        "outputId": "e96dd3c3-6ee9-404f-a740-831ab55876d6"
      },
      "source": [
        "\n",
        "\n",
        "### ESCRIBA SU CÓDIGO AQUÍ ### (~ 1 línea de código)\n",
        "cargos_una_pers = sum(sal[sal['Year'] == 2013]['JobTitle'].value_counts() == 1)\n",
        "print(cargos_una_pers)\n",
        "\n",
        "### FIN DEL CÓDIGO ###\n",
        "\n"
      ],
      "execution_count": 22,
      "outputs": [
        {
          "output_type": "stream",
          "name": "stdout",
          "text": [
            "202\n"
          ]
        }
      ]
    },
    {
      "cell_type": "markdown",
      "metadata": {
        "id": "fRMJz3FCHsXE"
      },
      "source": [
        "La salida de la celda anterior debería ser (no se muestran todas las cifras):\n",
        "```python\n",
        "2_2\n",
        "```"
      ]
    },
    {
      "cell_type": "markdown",
      "metadata": {
        "id": "FDCxgr7ptbTS"
      },
      "source": [
        "## **11. ¿Cuántas personas tienen la palabra 'Chief' en su cargo?**\n",
        "---\n",
        "\n",
        "Guarde el resultado de esta pregunta en la variable **`total_chief`**.\n",
        "\n",
        "**Nota:** Es probable que tenga que implementar una función adicional."
      ]
    },
    {
      "cell_type": "markdown",
      "metadata": {
        "id": "Tb-l0Uz0qrTY"
      },
      "source": [
        "<details>    \n",
        "<summary>\n",
        "    <font size=\"3\" color=\"darkgreen\"><b>Pistas</b></font>\n",
        "</summary>\n",
        "\n",
        "* Puede definir una función para detectar la palabra **`'chief'`** y aplicarla en el *DataFrame*. Para esto puede necesitar funciones sobre [cadenas de texto](https://www.w3schools.com/python/python_ref_string.asp) de *Python*.\n",
        "* Si se realiza una operación matemática como la suma en valores booleanos se cuentan como 0 (**`False`**) y 1 (**`True`**)."
      ]
    },
    {
      "cell_type": "code",
      "metadata": {
        "id": "y3B8MVxEtbTT",
        "colab": {
          "base_uri": "https://localhost:8080/"
        },
        "outputId": "0143f8fa-ff2a-44fe-d5ec-6b578d8c5aa3"
      },
      "source": [
        "\n",
        "### ESCRIBA SU CÓDIGO AQUÍ ### (~ 6 líneas de código)\n",
        "total_chief = sum(sal['JobTitle'].apply(lambda x: 'chief' in x.lower().split()))\n",
        "print(total_chief)\n",
        "\n",
        "### FIN DEL CÓDIGO ###\n"
      ],
      "execution_count": 23,
      "outputs": [
        {
          "output_type": "stream",
          "name": "stdout",
          "text": [
            "477\n"
          ]
        }
      ]
    },
    {
      "cell_type": "markdown",
      "metadata": {
        "id": "TfZVfQXhHz2l"
      },
      "source": [
        "La salida de la celda anterior debería ser (no se muestran todas las cifras):\n",
        "```python\n",
        "6_7\n",
        "```"
      ]
    },
    {
      "cell_type": "markdown",
      "metadata": {
        "id": "4IFgN_ByuUzi"
      },
      "source": [
        "## **12. ¿Cuáles son los 10 apellidos más comunes?**\n",
        "---\n",
        "Guarde el resultado de esta pregunta en la variable **`apellido_comun`**. Para simplificar las cosas, vamos a asumir que la última palabra en la cadena **`EmployeeName`** corresponde al apellido de la persona. Debe retornar los 10 apellidos más comunes escritos en **mayúsculas**, junto con sus frecuencias.\n",
        "\n",
        "> **Nota:** Es probable que tenga que implementar una función adicional.\n"
      ]
    },
    {
      "cell_type": "markdown",
      "metadata": {
        "id": "jOlC-zA2rn_H"
      },
      "source": [
        "<details>    \n",
        "<summary>\n",
        "    <font size=\"3\" color=\"darkgreen\"><b>Pistas</b></font>\n",
        "</summary>\n",
        "\n",
        "* Puede usar la función **`apply`** para aplicar una función a cada uno de los elementos en una columna.\n",
        "* Puede definir una función para separar el nombre completo y convertirlo en mayúscula para aplicarla luego sobre el *DataFrame*. Para esto puede necesitar funciones sobre [cadenas de texto](https://www.w3schools.com/python/python_ref_string.asp) de *Python*.\n",
        "* Solo nos interesan dos variables, por lo que debería realizar una selección previa de las características."
      ]
    },
    {
      "cell_type": "code",
      "metadata": {
        "id": "Qnuu5G-iBePq",
        "colab": {
          "base_uri": "https://localhost:8080/",
          "height": 429
        },
        "outputId": "846fea1d-d5f6-4631-cbc9-e454c5c4a2cd"
      },
      "source": [
        "## apellido_comun\n",
        "\n",
        "### ESCRIBA SU CÓDIGO AQUÍ ### (~ 6 líneas de código)\n",
        "\n",
        "def apellido_mayuscula(name):\n",
        "    return name.upper().split()[-1]\n",
        "\n",
        "sal['EmployeeName'].apply(apellido_mayuscula).value_counts().head(10)\n",
        "  # Implemente esta función: debe retornar la última palabra,\n",
        "  # separando por espacio de la cadena \"name\" dada.\n",
        "\n",
        "# Utilice la función anterior para cada uno de los elementos en la columna \"EmployeeName\"\n",
        "# y obtenga los 10 apellidos más comunes. (NO MODIFIQUE EL DATAFRAME ORIGINAL)\n",
        "\n",
        "\n",
        "### FIN DEL CÓDIGO ###\n",
        "\n",
        "\n"
      ],
      "execution_count": 24,
      "outputs": [
        {
          "output_type": "execute_result",
          "data": {
            "text/plain": [
              "EmployeeName\n",
              "WONG        1859\n",
              "JR          1835\n",
              "LEE         1834\n",
              "CHAN        1162\n",
              "JOHNSON      771\n",
              "WILLIAMS     705\n",
              "SMITH        678\n",
              "CHEN         608\n",
              "JONES        591\n",
              "NG           559\n",
              "Name: count, dtype: int64"
            ],
            "text/html": [
              "<div>\n",
              "<style scoped>\n",
              "    .dataframe tbody tr th:only-of-type {\n",
              "        vertical-align: middle;\n",
              "    }\n",
              "\n",
              "    .dataframe tbody tr th {\n",
              "        vertical-align: top;\n",
              "    }\n",
              "\n",
              "    .dataframe thead th {\n",
              "        text-align: right;\n",
              "    }\n",
              "</style>\n",
              "<table border=\"1\" class=\"dataframe\">\n",
              "  <thead>\n",
              "    <tr style=\"text-align: right;\">\n",
              "      <th></th>\n",
              "      <th>count</th>\n",
              "    </tr>\n",
              "    <tr>\n",
              "      <th>EmployeeName</th>\n",
              "      <th></th>\n",
              "    </tr>\n",
              "  </thead>\n",
              "  <tbody>\n",
              "    <tr>\n",
              "      <th>WONG</th>\n",
              "      <td>1859</td>\n",
              "    </tr>\n",
              "    <tr>\n",
              "      <th>JR</th>\n",
              "      <td>1835</td>\n",
              "    </tr>\n",
              "    <tr>\n",
              "      <th>LEE</th>\n",
              "      <td>1834</td>\n",
              "    </tr>\n",
              "    <tr>\n",
              "      <th>CHAN</th>\n",
              "      <td>1162</td>\n",
              "    </tr>\n",
              "    <tr>\n",
              "      <th>JOHNSON</th>\n",
              "      <td>771</td>\n",
              "    </tr>\n",
              "    <tr>\n",
              "      <th>WILLIAMS</th>\n",
              "      <td>705</td>\n",
              "    </tr>\n",
              "    <tr>\n",
              "      <th>SMITH</th>\n",
              "      <td>678</td>\n",
              "    </tr>\n",
              "    <tr>\n",
              "      <th>CHEN</th>\n",
              "      <td>608</td>\n",
              "    </tr>\n",
              "    <tr>\n",
              "      <th>JONES</th>\n",
              "      <td>591</td>\n",
              "    </tr>\n",
              "    <tr>\n",
              "      <th>NG</th>\n",
              "      <td>559</td>\n",
              "    </tr>\n",
              "  </tbody>\n",
              "</table>\n",
              "</div><br><label><b>dtype:</b> int64</label>"
            ]
          },
          "metadata": {},
          "execution_count": 24
        }
      ]
    },
    {
      "cell_type": "markdown",
      "metadata": {
        "id": "td_M1_LRNsCl"
      },
      "source": [
        "La salida de la celda anterior debería ser:\n",
        "```python\n",
        "W__G        1__9\n",
        "J_          1__5\n",
        "LE_         1__4\n",
        "C__N        1__2\n",
        "JO___ON      7_1\n",
        "WI___AMS     7_5\n",
        "SM__H        6_8\n",
        "CH__         6_8\n",
        "JO__S        5_1\n",
        "N_           5_9\n",
        "Name: EmployeeName, dtype: int64\n",
        "```"
      ]
    },
    {
      "cell_type": "markdown",
      "metadata": {
        "id": "4luKKP58V-Qs"
      },
      "source": [
        "**¡Felicitaciones!** Esta tarea fue más retadora. ¡Muy buen trabajo!\n",
        "\n",
        "## **Entrega**\n",
        "\n",
        "Para entregar el notebook por favor haga lo siguiente:\n",
        "1. Descargue el notebook (`Archivo` -> `Descargar .ipynb`).\n",
        "2. Guardar el archivo descargado y envialo en la fecha correspondiente.\n"
      ]
    }
  ]
}